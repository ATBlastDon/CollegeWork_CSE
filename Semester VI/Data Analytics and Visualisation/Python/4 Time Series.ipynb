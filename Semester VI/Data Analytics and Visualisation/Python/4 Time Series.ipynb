{
 "cells": [
  {
   "cell_type": "code",
   "execution_count": null,
   "id": "0fd073bc",
   "metadata": {},
   "outputs": [],
   "source": [
    "# import modules\n",
    "import pandas as pd\n",
    "import matplotlib.pyplot as plt\n",
    "from datetime import datetime\n",
    "import numpy as np\n",
    " \n",
    "# create dataframe\n",
    " \n",
    "dataframe = pd.DataFrame({'date_of_week': np.array([datetime(2021, 11, i+1) for i in range(7)]),\n",
    "                          'classes': [5, 6, 8, 2, 3, 7, 4]})\n",
    " \n",
    "# Plotting the time series of given dataframe\n",
    "plt.plot(dataframe.date_of_week, dataframe.classes)\n",
    " \n",
    "# Giving title to the chart using plt.title\n",
    "plt.title('Classes by Date')\n",
    " \n",
    "# rotating the x-axis tick labels by 30 degrees\n",
    "plt.xticks(rotation=30, ha='right')\n",
    " \n",
    "# Providing x and y label to the chart\n",
    "plt.xlabel('Date')\n",
    "plt.ylabel('Classes')"
   ]
  },
  {
   "cell_type": "code",
   "execution_count": null,
   "id": "b7fa48cc",
   "metadata": {},
   "outputs": [],
   "source": [
    "# create dataframe\n",
    "dataframe = pd.DataFrame({'date_of_week': np.array([datetime(2001 + i, 11, 1) for i in range(20)]),\n",
    "                          'classes': [5, 6, 8, 2, 3, 7, 4, 7, 3, 9, 5, 6, 3, 6, 8, 2, 7, 8, 5, 7]})\n",
    " \n",
    "# Plotting the time series of given dataframe\n",
    "plt.plot(dataframe.date_of_week, dataframe.classes)"
   ]
  }
 ],
 "metadata": {
  "kernelspec": {
   "display_name": "Python 3 (ipykernel)",
   "language": "python",
   "name": "python3"
  },
  "language_info": {
   "codemirror_mode": {
    "name": "ipython",
    "version": 3
   },
   "file_extension": ".py",
   "mimetype": "text/x-python",
   "name": "python",
   "nbconvert_exporter": "python",
   "pygments_lexer": "ipython3",
   "version": "3.11.1"
  }
 },
 "nbformat": 4,
 "nbformat_minor": 5
}
