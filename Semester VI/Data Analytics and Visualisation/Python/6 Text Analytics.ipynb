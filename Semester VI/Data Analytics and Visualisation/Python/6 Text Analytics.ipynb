{
 "cells": [
  {
   "cell_type": "code",
   "execution_count": null,
   "metadata": {},
   "outputs": [],
   "source": [
    "import pandas as pd\n",
    "from nltk.corpus import stopwords\n",
    "from nltk.tokenize import word_tokenize\n",
    "from nltk.stem import WordNetLemmatizer\n",
    "from nltk import download\n",
    "import re\n",
    "\n",
    "download('stopwords')\n",
    "download('punkt')\n",
    "download('wordnet')\n",
    "download('omw-1.4')"
   ]
  },
  {
   "cell_type": "code",
   "execution_count": null,
   "metadata": {},
   "outputs": [],
   "source": [
    "df = pd.read_csv('20191226-reviews.csv', usecols=['body'])\n",
    "\n",
    "# Only take the forst 10 reviews from the large dateset\n",
    "df = df[:10]\n",
    "\n",
    "lemma = WordNetLemmatizer()\n",
    "stop_words = stopwords.words('english')\n",
    "\n",
    "df.head()"
   ]
  },
  {
   "cell_type": "code",
   "execution_count": 5,
   "metadata": {},
   "outputs": [],
   "source": [
    "def text_prep(text):\n",
    "\n",
    "    # Make the entire text lowercase\n",
    "    corpus = str(text).lower()\n",
    "\n",
    "    # Use regular expression to replace any non alphabetic character (a-z) with spaces\n",
    "    corpus = re.sub('[^a-z]+', ' ', corpus)\n",
    "\n",
    "    # Remove any leading or trailing space\n",
    "    corpus = corpus.strip()\n",
    "\n",
    "    # Tokenize the text\n",
    "    tokens = word_tokenize(corpus)\n",
    "\n",
    "    words = []\n",
    "    for t in tokens:\n",
    "        if t not in stop_words:\n",
    "            words.append(t)\n",
    "\n",
    "    lemmatized_words = []\n",
    "    for w in words:\n",
    "        lemmatized_words.append(lemma.lemmatize(w))\n",
    "\n",
    "    return lemmatized_words"
   ]
  },
  {
   "cell_type": "code",
   "execution_count": null,
   "metadata": {},
   "outputs": [],
   "source": [
    "# Preprocessing all the revies in the dataset\n",
    "\n",
    "lemmatized_reviews = []\n",
    "\n",
    "for review in df['body']:\n",
    "    lemmatized_review = text_prep(review)\n",
    "    lemmatized_reviews.append(lemmatized_review)\n",
    "\n",
    "df['lemmatized_text'] = lemmatized_reviews\n",
    "\n",
    "df.head()"
   ]
  },
  {
   "cell_type": "code",
   "execution_count": 16,
   "metadata": {},
   "outputs": [],
   "source": [
    "# getting the collection of positive and negetive words\n",
    "\n",
    "file = open('negative-words.txt', 'r')\n",
    "neg_words = file.read().split()\n",
    "\n",
    "file = open('positive-words.txt', 'r')\n",
    "pos_words = file.read().split()\n"
   ]
  },
  {
   "cell_type": "code",
   "execution_count": null,
   "metadata": {},
   "outputs": [],
   "source": [
    "# Counting the posiive and negetive words in the dataset\n",
    "\n",
    "pos_counts = []\n",
    "neg_counts = []\n",
    "sentiments = []\n",
    "\n",
    "for text in df['lemmatized_text']:\n",
    "    pos_count = 0\n",
    "    neg_count = 0\n",
    "    \n",
    "    for word in text:\n",
    "        if word in pos_words:\n",
    "            pos_count += 1\n",
    "        elif word in neg_words:\n",
    "            neg_count += 1\n",
    "    \n",
    "    pos_counts.append(pos_count)\n",
    "    neg_counts.append(neg_count)\n",
    "    sentiments.append(round((pos_count - neg_count) / (pos_count + neg_count) , 2))\n",
    "\n",
    "\n",
    "df['pos_count'] = pos_counts\n",
    "df['neg_count'] = neg_counts\n",
    "df['sentiment'] = sentiments\n",
    "\n",
    "df.head()"
   ]
  }
 ],
 "metadata": {
  "kernelspec": {
   "display_name": "Python 3",
   "language": "python",
   "name": "python3"
  },
  "language_info": {
   "codemirror_mode": {
    "name": "ipython",
    "version": 3
   },
   "file_extension": ".py",
   "mimetype": "text/x-python",
   "name": "python",
   "nbconvert_exporter": "python",
   "pygments_lexer": "ipython3",
   "version": "3.11.1"
  },
  "orig_nbformat": 4
 },
 "nbformat": 4,
 "nbformat_minor": 2
}
