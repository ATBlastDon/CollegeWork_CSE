{
 "cells": [
  {
   "cell_type": "code",
   "execution_count": null,
   "id": "2cc77844",
   "metadata": {},
   "outputs": [],
   "source": [
    "# Importing required libraries\n",
    "import numpy as np\n",
    "import pandas as pd\n",
    "import matplotlib.pyplot as plt\n",
    "from statsmodels.tsa.seasonal import seasonal_decompose\n",
    "  \n",
    "# Read the AirPassengers dataset\n",
    "airline = pd.read_csv('AirPassengers.csv', index_col ='Month', parse_dates = True)\n",
    "  \n",
    "# Print the first five rows of the dataset\n",
    "print(airline.head())\n",
    "  \n",
    "# ETS Decomposition\n",
    "result = seasonal_decompose(airline['#Passengers'], model ='multiplicative')\n",
    "  \n",
    "# ETS plot \n",
    "result.plot()"
   ]
  },
  {
   "cell_type": "code",
   "execution_count": null,
   "id": "3a998292",
   "metadata": {},
   "outputs": [],
   "source": [
    "# Import the library\n",
    "from pmdarima import auto_arima\n",
    "  \n",
    "  \n",
    "# Auto ARIMA automatically derives the optimal ARIMA parameters (order)\n",
    "stepwise_fit = auto_arima(\n",
    "    airline['#Passengers'], \n",
    "\n",
    "    # Starting AR value (p)\n",
    "    start_p = 1, max_p= 3,\n",
    "    \n",
    "    # I value\n",
    "    d = 0,\n",
    "    \n",
    "    # Starting MA value (a)\n",
    "    start_q = 1, max_q = 3,\n",
    "\n",
    "    # Time Period of Season\n",
    "    m = 12,\n",
    "    D = 1,\n",
    "    \n",
    "    seasonal = True,\n",
    "\n",
    "    # Updates oreder step by step instead of randomly trying all oreders\n",
    "    stepwise = True,\n",
    "\n",
    "    # Show the trace\n",
    "    trace = True\n",
    ")"
   ]
  },
  {
   "cell_type": "code",
   "execution_count": null,
   "id": "1c4c6c44",
   "metadata": {},
   "outputs": [],
   "source": [
    "# Split data into train / test sets. Set one year (12 months) for testing\n",
    "train = airline[:len(airline)-12]\n",
    "test = airline[len(airline)-12:]\n",
    "  \n",
    "# Fit a ARIMA(0, 1, 1)x(2, 1, 1, 12) on the training set\n",
    "from statsmodels.tsa.arima.model import ARIMA\n",
    "  \n",
    "model = ARIMA(train['#Passengers'], order = (2, 0, 0), seasonal_order=(0, 1, 0, 12))\n",
    "  \n",
    "fitted_model = model.fit()"
   ]
  },
  {
   "cell_type": "code",
   "execution_count": null,
   "id": "05d18adc",
   "metadata": {},
   "outputs": [],
   "source": [
    "start = len(train)\n",
    "end = len(train) + len(test) - 1\n",
    "  \n",
    "# Predictions for one-year against the test set\n",
    "predictions = fitted_model.predict(start, end)\n",
    "  \n",
    "# plot predictions and actual values\n",
    "airline['#Passengers'].plot(legend = True)\n",
    "predictions.plot(legend = True)"
   ]
  }
 ],
 "metadata": {
  "kernelspec": {
   "display_name": "Python 3 (ipykernel)",
   "language": "python",
   "name": "python3"
  },
  "language_info": {
   "codemirror_mode": {
    "name": "ipython",
    "version": 3
   },
   "file_extension": ".py",
   "mimetype": "text/x-python",
   "name": "python",
   "nbconvert_exporter": "python",
   "pygments_lexer": "ipython3",
   "version": "3.11.1"
  }
 },
 "nbformat": 4,
 "nbformat_minor": 5
}
