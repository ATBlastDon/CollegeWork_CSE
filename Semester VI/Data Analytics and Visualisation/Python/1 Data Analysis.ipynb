{
 "cells": [
  {
   "cell_type": "code",
   "execution_count": null,
   "id": "1c516f40",
   "metadata": {},
   "outputs": [],
   "source": [
    "import numpy as np\n",
    "\n",
    "# np.empty creates an empty matrix with garbage values\n",
    "\n",
    "print('\\nMatrix A\\n' ,np.empty(2, dtype='int'))\n",
    "\n",
    "print('\\nMatrix B\\n', np.empty([2,2], dtype='int'))\n",
    "\n",
    "print('\\nMatrix C\\n',np.empty([3,3]))\n",
    "\n",
    "# np.zeros creates a mtrix filled with zeros\n",
    "\n",
    "print('\\nMatrix A\\n',np.zeros(2, dtype='int'))\n",
    "\n",
    "print('\\nMatrix B\\n',np.zeros([2,2], dtype='int'))\n",
    "\n",
    "print('\\nMatrix C\\n',np.zeros([3,3]))"
   ]
  },
  {
   "cell_type": "code",
   "execution_count": null,
   "id": "761f3589",
   "metadata": {},
   "outputs": [],
   "source": [
    "import pandas as pd\n",
    "\n",
    "# creating empty series\n",
    "s = pd.Series(dtype='int')\n",
    "\n",
    "data = np.array([12,23,0,45,67,0,88,45])\n",
    "\n",
    "s = pd.Series(data)\n",
    "\n",
    "print(s)"
   ]
  },
  {
   "cell_type": "code",
   "execution_count": null,
   "id": "95c0a0ee",
   "metadata": {},
   "outputs": [],
   "source": [
    "import statistics as st\n",
    "\n",
    "print('\\nMean: ' ,np.mean(data))\n",
    "print('\\nMedian: ' ,np.median(data))\n",
    "print('\\nMode: ' ,st.mode(data))\n",
    "print('\\nStandard Deviation: ' ,np.std(data))"
   ]
  },
  {
   "cell_type": "code",
   "execution_count": null,
   "id": "9dc7935d",
   "metadata": {},
   "outputs": [],
   "source": [
    "df = pd.read_csv('Marks.csv')\n",
    "df"
   ]
  },
  {
   "cell_type": "code",
   "execution_count": null,
   "id": "d8dbf5f9",
   "metadata": {},
   "outputs": [],
   "source": [
    "# Returns a series\n",
    "df['Name']"
   ]
  },
  {
   "cell_type": "code",
   "execution_count": null,
   "id": "0a023f33",
   "metadata": {},
   "outputs": [],
   "source": [
    "# Returns a Dataframe\n",
    "df[['Name', 'Maths']]"
   ]
  },
  {
   "cell_type": "code",
   "execution_count": 18,
   "id": "218b044b",
   "metadata": {},
   "outputs": [
    {
     "data": {
      "text/plain": [
       "Index(['Name', 'Maths', 'English'], dtype='object')"
      ]
     },
     "execution_count": 18,
     "metadata": {},
     "output_type": "execute_result"
    }
   ],
   "source": [
    "df.columns"
   ]
  }
 ],
 "metadata": {
  "kernelspec": {
   "display_name": "Python 3 (ipykernel)",
   "language": "python",
   "name": "python3"
  },
  "language_info": {
   "codemirror_mode": {
    "name": "ipython",
    "version": 3
   },
   "file_extension": ".py",
   "mimetype": "text/x-python",
   "name": "python",
   "nbconvert_exporter": "python",
   "pygments_lexer": "ipython3",
   "version": "3.9.12"
  }
 },
 "nbformat": 4,
 "nbformat_minor": 5
}
