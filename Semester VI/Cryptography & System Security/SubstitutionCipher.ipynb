{
 "cells": [
  {
   "cell_type": "code",
   "execution_count": 8,
   "id": "efa45e9e",
   "metadata": {},
   "outputs": [
    {
     "name": "stdout",
     "output_type": "stream",
     "text": [
      "Cipher Text is:  M eq wxyhCmrk Hexe IrgvCtxmsr*\n",
      "Recovered plain text : I am studying Data Encryption*\n"
     ]
    }
   ],
   "source": [
    "import string\n",
    "\n",
    "all_letters= string.ascii_letters\n",
    "\n",
    "dict1 = {}\n",
    "key = 4\n",
    "\n",
    "for i in range(len(all_letters)):\n",
    "    dict1[all_letters[i]] = all_letters[(i+key)%len(all_letters)]\n",
    "    \n",
    "#For Debugging\n",
    "#print(dict1)\n",
    "#print(dict1['a'])\n",
    "#print(dict1['z'])\n",
    "\n",
    "plain_txt= \"I am studying Data Encryption*\"\n",
    "cipher_txt=[]\n",
    "\n",
    "for char in plain_txt:\n",
    "    if char in all_letters:        \n",
    "        temp = dict1[char]        \n",
    "        cipher_txt.append(temp)\n",
    "    else:\n",
    "        temp =char\n",
    "        cipher_txt.append(temp)\n",
    "         \n",
    "cipher_txt= \"\".join(cipher_txt)\n",
    "print(\"Cipher Text is: \",cipher_txt)\n",
    "\n",
    "dict2 = {}    \n",
    "for i in range(len(all_letters)):\n",
    "    #print(i)\n",
    "    dict2[all_letters[i]] = all_letters[(i-key)%(len(all_letters))]\n",
    "    \n",
    "#print(dict2)\n",
    "     \n",
    "# loop to recover plain text\n",
    "decrypt_txt = []\n",
    " \n",
    "for char in cipher_txt:\n",
    "    if char in all_letters:\n",
    "        temp = dict2[char]\n",
    "        decrypt_txt.append(temp)\n",
    "    else:\n",
    "        temp = char\n",
    "        decrypt_txt.append(temp)\n",
    "         \n",
    "decrypt_txt = \"\".join(decrypt_txt)\n",
    "print(\"Recovered plain text :\", decrypt_txt)"
   ]
  },
  {
   "cell_type": "code",
   "execution_count": null,
   "id": "9336f1ac",
   "metadata": {},
   "outputs": [],
   "source": []
  }
 ],
 "metadata": {
  "kernelspec": {
   "display_name": "Python 3 (ipykernel)",
   "language": "python",
   "name": "python3"
  },
  "language_info": {
   "codemirror_mode": {
    "name": "ipython",
    "version": 3
   },
   "file_extension": ".py",
   "mimetype": "text/x-python",
   "name": "python",
   "nbconvert_exporter": "python",
   "pygments_lexer": "ipython3",
   "version": "3.9.12"
  }
 },
 "nbformat": 4,
 "nbformat_minor": 5
}
