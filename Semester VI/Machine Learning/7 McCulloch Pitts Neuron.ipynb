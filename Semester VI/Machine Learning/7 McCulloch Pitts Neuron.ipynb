{
 "cells": [
  {
   "cell_type": "code",
   "execution_count": null,
   "metadata": {},
   "outputs": [],
   "source": [
    "import numpy as np\n",
    "\n",
    "# MCP does not have bias or learning rule, but it does have an activation function\n",
    "# Finds the Yin (Xnet) and puts it in a binary step activation function\n",
    "\n",
    "# Generate a binary Input vector of size 3\n",
    "I = np.random.choice([0,1], 3)\n",
    "\n",
    "# Initialial Weights\n",
    "W = np.array([1,1,1])\n",
    "\n",
    "print(f'Input vector:{I}, Weight vector:{W}')\n",
    "\n",
    "# Finding Yin = w1*x1 + w2*x2 + w3*x3\n",
    "dot = I @ W\n",
    "print(f'Y in: {dot}')\n",
    "\n",
    "def activation(y_in, threshold):\n",
    "    '''Binary step activation function'''\n",
    "    if y_in >= threshold:\n",
    "        return 1\n",
    "    else:\n",
    "        return 0\n",
    "    \n",
    "threshold = 3\n",
    "output = activation(dot, threshold)\n",
    "\n",
    "\n",
    "print(f'When Threshold = {threshold}, Output: {output}')"
   ]
  }
 ],
 "metadata": {
  "kernelspec": {
   "display_name": "Python 3",
   "language": "python",
   "name": "python3"
  },
  "language_info": {
   "codemirror_mode": {
    "name": "ipython",
    "version": 3
   },
   "file_extension": ".py",
   "mimetype": "text/x-python",
   "name": "python",
   "nbconvert_exporter": "python",
   "pygments_lexer": "ipython3",
   "version": "3.11.1"
  }
 },
 "nbformat": 4,
 "nbformat_minor": 4
}
