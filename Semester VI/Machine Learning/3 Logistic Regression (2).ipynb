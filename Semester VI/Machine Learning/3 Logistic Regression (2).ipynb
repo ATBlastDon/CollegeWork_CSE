{
 "cells": [
  {
   "cell_type": "code",
   "execution_count": 2,
   "metadata": {},
   "outputs": [],
   "source": [
    "import numpy as np\n",
    "import matplotlib.pyplot as plot\n",
    "from sklearn.datasets import load_digits\n",
    "\n",
    "\n",
    "# Load Digits dataset\n",
    "digits = load_digits()\n",
    "\n",
    "# X is a collection of arrays of 64 (8X8) pixel intensity values for different handwritten digits\n",
    "X = digits.data\n",
    "\n",
    "# y is the corresponding value of digits\n",
    "y = digits.target"
   ]
  },
  {
   "cell_type": "code",
   "execution_count": null,
   "metadata": {},
   "outputs": [],
   "source": [
    "print(f\"Shape of X is {X.shape}\")\n",
    "print(f\"Shape of y is {y.shape}\")\n",
    "X[0]"
   ]
  },
  {
   "cell_type": "code",
   "execution_count": 5,
   "metadata": {},
   "outputs": [],
   "source": [
    "def plot_digit(x):\n",
    "    'Function to plot heatmaps for pixel intensity arrays'\n",
    "    plot.imshow(x.reshape(8,8))     # x.reshape(cols,rows)"
   ]
  },
  {
   "cell_type": "code",
   "execution_count": null,
   "metadata": {},
   "outputs": [],
   "source": [
    "plot_digit(X[104])\n",
    "print(y[104])"
   ]
  },
  {
   "cell_type": "code",
   "execution_count": null,
   "metadata": {},
   "outputs": [],
   "source": [
    "from sklearn.model_selection import train_test_split\n",
    "X_train, X_test, y_train, y_test = train_test_split(X, y, test_size=0.2, random_state=1)\n",
    "\n",
    "#X_train is a collection of arrays. Each array reperesents a sample and each item in array represents a feature\n",
    "X_train.shape"
   ]
  },
  {
   "cell_type": "code",
   "execution_count": null,
   "metadata": {},
   "outputs": [],
   "source": [
    "from sklearn.linear_model import LogisticRegression\n",
    "from sklearn.metrics import accuracy_score\n",
    "\n",
    "lrm = LogisticRegression(max_iter=5000)\n",
    "lrm.fit(X_train, y_train)\n",
    "\n",
    "y_predict = lrm.predict(X_test)\n",
    "accuracy = accuracy_score(y_predict, y_test)\n",
    "print(accuracy)"
   ]
  }
 ],
 "metadata": {
  "kernelspec": {
   "display_name": "Python 3",
   "language": "python",
   "name": "python3"
  },
  "language_info": {
   "codemirror_mode": {
    "name": "ipython",
    "version": 3
   },
   "file_extension": ".py",
   "mimetype": "text/x-python",
   "name": "python",
   "nbconvert_exporter": "python",
   "pygments_lexer": "ipython3",
   "version": "3.11.1"
  }
 },
 "nbformat": 4,
 "nbformat_minor": 2
}
