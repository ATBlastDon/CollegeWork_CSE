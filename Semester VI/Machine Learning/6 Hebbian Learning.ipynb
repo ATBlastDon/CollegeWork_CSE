{
 "cells": [
  {
   "cell_type": "code",
   "execution_count": 2,
   "metadata": {},
   "outputs": [],
   "source": [
    "# Truth Table of AND gate with bipolar inputs and outputs\n",
    "AND_samples = [\n",
    "    #      x1   x2   b   y   \n",
    "        [   1,   1,  1,  1],\n",
    "        [   1,  -1,  1, -1],\n",
    "        [  -1,   1,  1, -1],\n",
    "        [  -1,  -1,  1, -1]\n",
    "    ]"
   ]
  },
  {
   "cell_type": "code",
   "execution_count": null,
   "metadata": {},
   "outputs": [],
   "source": [
    "# Hebbian learning does not have an activation function\n",
    "def hebbian_learning(samples):\n",
    "     \n",
    "    # Taking inital weights as 0\n",
    "    w = [0, 0, 0]\n",
    "    i = 1\n",
    "    for x1, x2, b, y in samples:\n",
    "       \n",
    "        print('Iterantion', i, ': W_new =', w, end=' + ')\n",
    "        w[0] = w[0] + x1 * y\n",
    "        w[1] = w[1] + x2 * y\n",
    "        w[2] = w[2] + b  * y\n",
    "\n",
    "        print([x1, x2, y], '.', [y])\n",
    "        i += 1\n",
    "\n",
    "    print('Final Weights:', w)\n",
    "\n",
    "\n",
    "print('-'*20, 'HEBBIAN LEARNING', '-'*20)\n",
    "hebbian_learning(AND_samples)\n",
    "\n",
    "\n",
    "\n"
   ]
  }
 ],
 "metadata": {
  "kernelspec": {
   "display_name": "Python 3",
   "language": "python",
   "name": "python3"
  },
  "language_info": {
   "codemirror_mode": {
    "name": "ipython",
    "version": 3
   },
   "file_extension": ".py",
   "mimetype": "text/x-python",
   "name": "python",
   "nbconvert_exporter": "python",
   "pygments_lexer": "ipython3",
   "version": "3.11.1"
  }
 },
 "nbformat": 4,
 "nbformat_minor": 4
}
