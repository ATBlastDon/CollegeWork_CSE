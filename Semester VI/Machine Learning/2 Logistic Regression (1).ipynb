{
 "cells": [
  {
   "cell_type": "code",
   "execution_count": 2,
   "metadata": {},
   "outputs": [],
   "source": [
    "import numpy\n",
    "from sklearn.linear_model import LogisticRegression"
   ]
  },
  {
   "cell_type": "code",
   "execution_count": null,
   "metadata": {},
   "outputs": [],
   "source": [
    "\n",
    "#X is a matrix where each row is a sample vector and each column (item in the row) is a feature\n",
    "X = numpy.array([[3.78], [2.44], [2.09], [0.14], [1.72], [1.65], [4.92], [4.37], [4.96], [4.52], [3.69], [5.88]])\n",
    "y = numpy.array([0, 0, 0, 0, 0, 0, 1, 1, 1, 1, 1, 1])\n",
    "\n",
    "lrm = LogisticRegression()\n",
    "lrm.fit(X,y)"
   ]
  },
  {
   "cell_type": "code",
   "execution_count": null,
   "metadata": {},
   "outputs": [],
   "source": [
    "\n",
    "def logit2prob(lrm, X):\n",
    "    # The Log odds of class 1 is predicted from the inependent variables using simple linear regression\n",
    "    log_odds = lrm.coef_ * X + lrm.intercept_\n",
    "    odds = numpy.exp(log_odds)\n",
    "    probability = odds / (1 + odds)\n",
    "    return(probability)\n",
    "\n",
    "\n",
    "test = 3.45\n",
    "probability = logit2prob(lrm, test)\n",
    "pred = lrm.predict([[test]])\n",
    "\n",
    "print('class: ', pred, '\\nprobability (of class 1): ', probability)\n"
   ]
  }
 ],
 "metadata": {
  "kernelspec": {
   "display_name": "Python 3",
   "language": "python",
   "name": "python3"
  },
  "language_info": {
   "codemirror_mode": {
    "name": "ipython",
    "version": 3
   },
   "file_extension": ".py",
   "mimetype": "text/x-python",
   "name": "python",
   "nbconvert_exporter": "python",
   "pygments_lexer": "ipython3",
   "version": "3.11.1"
  }
 },
 "nbformat": 4,
 "nbformat_minor": 4
}
