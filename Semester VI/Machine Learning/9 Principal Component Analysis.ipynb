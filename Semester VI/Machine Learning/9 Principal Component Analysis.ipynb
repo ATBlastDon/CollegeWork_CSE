{
 "cells": [
  {
   "cell_type": "code",
   "execution_count": 1,
   "metadata": {},
   "outputs": [],
   "source": [
    "from sklearn.datasets import load_digits\n",
    "\n",
    "# Load Digits dataset\n",
    "digits = load_digits()\n",
    "\n",
    "# X is a collection of arrays of 64 (8X8) pixel intensity values for different handwritten digits\n",
    "X = digits.data\n",
    "\n",
    "# y is the corresponding value of digits\n",
    "y = digits.target"
   ]
  },
  {
   "cell_type": "code",
   "execution_count": 2,
   "metadata": {},
   "outputs": [],
   "source": [
    "from sklearn.model_selection import train_test_split\n",
    "\n",
    "# Splitting training and testing data\n",
    "X_train, X_test, y_train, y_test = train_test_split(X, y, test_size=0.2, random_state=1)"
   ]
  },
  {
   "cell_type": "code",
   "execution_count": null,
   "metadata": {},
   "outputs": [],
   "source": [
    "from sklearn.decomposition import PCA\n",
    "\n",
    "# Finding principal components such that they explain 95% of variance\n",
    "pca = PCA(n_components=0.95)\n",
    "pca.fit(X_train)\n",
    "\n",
    "# Transforming training and testing datasets\n",
    "X_train_transformed = pca.transform(X_train)\n",
    "X_test_transformed =pca.transform(X_test)\n",
    "\n",
    "print(X_train.shape)\n",
    "print(X_train_transformed.shape)"
   ]
  }
 ],
 "metadata": {
  "kernelspec": {
   "display_name": "Python 3",
   "language": "python",
   "name": "python3"
  },
  "language_info": {
   "codemirror_mode": {
    "name": "ipython",
    "version": 3
   },
   "file_extension": ".py",
   "mimetype": "text/x-python",
   "name": "python",
   "nbconvert_exporter": "python",
   "pygments_lexer": "ipython3",
   "version": "3.11.1"
  }
 },
 "nbformat": 4,
 "nbformat_minor": 4
}
