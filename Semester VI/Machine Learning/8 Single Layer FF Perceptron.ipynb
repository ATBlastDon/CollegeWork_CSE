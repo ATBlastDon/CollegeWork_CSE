{
 "cells": [
  {
   "cell_type": "code",
   "execution_count": 40,
   "metadata": {},
   "outputs": [],
   "source": [
    "import numpy as np\n",
    "\n",
    "class Perceptron:\n",
    "    def __init__(self, input_size, threshold=0, lr=1, epochs=3):\n",
    "        self.W = np.zeros(input_size+1)     # + 1 for bias\n",
    "        self.epochs = epochs                # No. of epoch considered for training\n",
    "        self.lr = lr                        # lr -> Learning rate\n",
    "        self.threshold = threshold          # Threshold of the activation function\n",
    "    \n",
    "    def activation_fn(self, y_in):\n",
    "        '''Bipolar Step activation function'''\n",
    "        return 1 if y_in >= self.threshold else -1\n",
    "    \n",
    "    def predict(self, X):\n",
    "        '''Function calculates Output if Input vector is given'''\n",
    "\n",
    "        # Adding bias to input vector\n",
    "        X = np.append(X, 1)\n",
    "        \n",
    "        y_in = self.W @ X\n",
    "        y = self.activation_fn(y_in)\n",
    "        \n",
    "        return y\n",
    "    \n",
    "    def update(self, X, t):\n",
    "        '''Function iterate through the truth table and update the weights'''        \n",
    "\n",
    "        # Iterating over each Epoch\n",
    "        for epoch in range(self.epochs):\n",
    "            # Iterating over every sample in Truth Table\n",
    "            for j in range(len(t)):\n",
    "                \n",
    "                y = self.predict(X[j])\n",
    "\n",
    "                if (t[j] != y):\n",
    "                    # Adding bias to input vector\n",
    "                    x = np.append(X[j], 1)\n",
    "                    \n",
    "                    # Iterating over every value in input vector\n",
    "                    for i in range(len(x)):\n",
    "                        # For every value in input vector we have corresponding weights\n",
    "                        # Updating weights: Wnew = Wold + atx\n",
    "                        self.W[i] = self.W[i] + self.lr * t[j] * x[i]"
   ]
  },
  {
   "cell_type": "code",
   "execution_count": null,
   "metadata": {},
   "outputs": [],
   "source": [
    "#For AND Gate with bipolar inputs and outputs\n",
    "X = np.array([[-1, -1], [-1, 1], [1, -1], [1, 1]])\n",
    "t = np.array([-1, -1, -1, 1])\n",
    "\n",
    "\n",
    "perceptron = Perceptron(input_size=2)\n",
    "perceptron.update(X, t)\n",
    "\n",
    "\n",
    "print(perceptron.W)\n",
    "\n",
    "\n",
    "test=np.array([1, -1])\n",
    "print(perceptron.predict(test))"
   ]
  }
 ],
 "metadata": {
  "kernelspec": {
   "display_name": "Python 3",
   "language": "python",
   "name": "python3"
  },
  "language_info": {
   "codemirror_mode": {
    "name": "ipython",
    "version": 3
   },
   "file_extension": ".py",
   "mimetype": "text/x-python",
   "name": "python",
   "nbconvert_exporter": "python",
   "pygments_lexer": "ipython3",
   "version": "3.11.1"
  }
 },
 "nbformat": 4,
 "nbformat_minor": 4
}
