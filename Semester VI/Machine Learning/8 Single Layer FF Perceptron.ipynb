{
 "cells": [
  {
   "cell_type": "code",
   "execution_count": 15,
   "metadata": {},
   "outputs": [],
   "source": [
    "import numpy as np\n",
    "\n",
    "class Perceptron:\n",
    "    def __init__(self, input_size, lr=1, epochs=10):\n",
    "        self.W = np.zeros(input_size+1)     # + 1 for bias\n",
    "        self.epochs = epochs                # No. of epoch considered for training\n",
    "        self.lr = lr                        # lr -> Learning rate\n",
    "    \n",
    "    def activation_fn(self, y_in, threshold=0):\n",
    "        '''Binary Step activation function'''\n",
    "        return 1 if y_in >= threshold else 0\n",
    "    \n",
    "    def predict(self, X):\n",
    "        '''Function calculates Output if Input vector is given'''\n",
    "        y_in = self.W @ X\n",
    "        y = self.activation_fn(y_in)\n",
    "        \n",
    "        return y\n",
    "    \n",
    "    def update(self, X, t):\n",
    "        '''Function uses ADALINE learning rule to adjuust weights'''\n",
    "\n",
    "        # We will compute the following values\n",
    "        #       x1      x2      1       t       y       err     w1      w2      b          \n",
    "\n",
    "        for epoch in range(self.epochs):\n",
    "            for j in range(len(t)):\n",
    "                \n",
    "                y = self.predict(X[j])\n",
    "\n",
    "                # Calculating error\n",
    "                err = t[j] - y\n",
    "                \n",
    "                for i in range(len(X[j])):\n",
    "                    # For every value in input vector we have corresponding weights\n",
    "                    # Updating weights: Wnew = Wold + a(t-y)x\n",
    "                    self.W[i] = self.W[i] + self.lr * err * X[j][i]"
   ]
  },
  {
   "cell_type": "code",
   "execution_count": 19,
   "metadata": {},
   "outputs": [
    {
     "name": "stdout",
     "output_type": "stream",
     "text": [
      "[ 2.  1. -3.]\n",
      "0\n"
     ]
    }
   ],
   "source": [
    "#For AND Gate with binary inputs and outputs\n",
    "X = np.array([[0, 0, 1], [0, 1, 1], [1, 0, 1], [1, 1, 1]])\n",
    "t = np.array([0, 0, 0, 1])\n",
    "\n",
    "\n",
    "perceptron = Perceptron(input_size=2)\n",
    "perceptron.update(X, t)\n",
    "\n",
    "\n",
    "print(perceptron.W)\n",
    "\n",
    "\n",
    "test=np.array([0, 1, 1])\n",
    "print(perceptron.predict(test))"
   ]
  }
 ],
 "metadata": {
  "kernelspec": {
   "display_name": "Python 3",
   "language": "python",
   "name": "python3"
  },
  "language_info": {
   "codemirror_mode": {
    "name": "ipython",
    "version": 3
   },
   "file_extension": ".py",
   "mimetype": "text/x-python",
   "name": "python",
   "nbconvert_exporter": "python",
   "pygments_lexer": "ipython3",
   "version": "3.11.1"
  }
 },
 "nbformat": 4,
 "nbformat_minor": 4
}
